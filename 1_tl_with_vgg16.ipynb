{
  "nbformat": 4,
  "nbformat_minor": 0,
  "metadata": {
    "colab": {
      "name": "1.tl with vgg16.ipynb",
      "provenance": []
    },
    "kernelspec": {
      "name": "python3",
      "display_name": "Python 3"
    },
    "language_info": {
      "name": "python"
    },
    "accelerator": "GPU",
    "widgets": {
      "application/vnd.jupyter.widget-state+json": {
        "04774a5b01d34a109e53b597b9dd07fa": {
          "model_module": "@jupyter-widgets/controls",
          "model_name": "HBoxModel",
          "model_module_version": "1.5.0",
          "state": {
            "_dom_classes": [],
            "_model_module": "@jupyter-widgets/controls",
            "_model_module_version": "1.5.0",
            "_model_name": "HBoxModel",
            "_view_count": null,
            "_view_module": "@jupyter-widgets/controls",
            "_view_module_version": "1.5.0",
            "_view_name": "HBoxView",
            "box_style": "",
            "children": [
              "IPY_MODEL_6ecee346e91749819b0ad30f5feda038",
              "IPY_MODEL_a0081cdd18df4296860f0071e245dd5b",
              "IPY_MODEL_2ec30807101d4f16884ae5064da70152"
            ],
            "layout": "IPY_MODEL_05af02fd511046fe998af16225cddfe4"
          }
        },
        "6ecee346e91749819b0ad30f5feda038": {
          "model_module": "@jupyter-widgets/controls",
          "model_name": "HTMLModel",
          "model_module_version": "1.5.0",
          "state": {
            "_dom_classes": [],
            "_model_module": "@jupyter-widgets/controls",
            "_model_module_version": "1.5.0",
            "_model_name": "HTMLModel",
            "_view_count": null,
            "_view_module": "@jupyter-widgets/controls",
            "_view_module_version": "1.5.0",
            "_view_name": "HTMLView",
            "description": "",
            "description_tooltip": null,
            "layout": "IPY_MODEL_600d8d17ec55461b9b7ba66e4b287e4a",
            "placeholder": "​",
            "style": "IPY_MODEL_634d13a3cead4ce6aa34d44875ba1771",
            "value": "Dl Completed...: 100%"
          }
        },
        "a0081cdd18df4296860f0071e245dd5b": {
          "model_module": "@jupyter-widgets/controls",
          "model_name": "FloatProgressModel",
          "model_module_version": "1.5.0",
          "state": {
            "_dom_classes": [],
            "_model_module": "@jupyter-widgets/controls",
            "_model_module_version": "1.5.0",
            "_model_name": "FloatProgressModel",
            "_view_count": null,
            "_view_module": "@jupyter-widgets/controls",
            "_view_module_version": "1.5.0",
            "_view_name": "ProgressView",
            "bar_style": "success",
            "description": "",
            "description_tooltip": null,
            "layout": "IPY_MODEL_f99a81c470e3460aa6b87bfa396ff60b",
            "max": 5,
            "min": 0,
            "orientation": "horizontal",
            "style": "IPY_MODEL_6419006a34f143588beec503700adadc",
            "value": 5
          }
        },
        "2ec30807101d4f16884ae5064da70152": {
          "model_module": "@jupyter-widgets/controls",
          "model_name": "HTMLModel",
          "model_module_version": "1.5.0",
          "state": {
            "_dom_classes": [],
            "_model_module": "@jupyter-widgets/controls",
            "_model_module_version": "1.5.0",
            "_model_name": "HTMLModel",
            "_view_count": null,
            "_view_module": "@jupyter-widgets/controls",
            "_view_module_version": "1.5.0",
            "_view_name": "HTMLView",
            "description": "",
            "description_tooltip": null,
            "layout": "IPY_MODEL_66adc66980424ae8b1c95a258f623c84",
            "placeholder": "​",
            "style": "IPY_MODEL_56f139060db841e9ae718b89c45fd7ad",
            "value": " 5/5 [00:02&lt;00:00,  1.90 file/s]"
          }
        },
        "05af02fd511046fe998af16225cddfe4": {
          "model_module": "@jupyter-widgets/base",
          "model_name": "LayoutModel",
          "model_module_version": "1.2.0",
          "state": {
            "_model_module": "@jupyter-widgets/base",
            "_model_module_version": "1.2.0",
            "_model_name": "LayoutModel",
            "_view_count": null,
            "_view_module": "@jupyter-widgets/base",
            "_view_module_version": "1.2.0",
            "_view_name": "LayoutView",
            "align_content": null,
            "align_items": null,
            "align_self": null,
            "border": null,
            "bottom": null,
            "display": null,
            "flex": null,
            "flex_flow": null,
            "grid_area": null,
            "grid_auto_columns": null,
            "grid_auto_flow": null,
            "grid_auto_rows": null,
            "grid_column": null,
            "grid_gap": null,
            "grid_row": null,
            "grid_template_areas": null,
            "grid_template_columns": null,
            "grid_template_rows": null,
            "height": null,
            "justify_content": null,
            "justify_items": null,
            "left": null,
            "margin": null,
            "max_height": null,
            "max_width": null,
            "min_height": null,
            "min_width": null,
            "object_fit": null,
            "object_position": null,
            "order": null,
            "overflow": null,
            "overflow_x": null,
            "overflow_y": null,
            "padding": null,
            "right": null,
            "top": null,
            "visibility": null,
            "width": null
          }
        },
        "600d8d17ec55461b9b7ba66e4b287e4a": {
          "model_module": "@jupyter-widgets/base",
          "model_name": "LayoutModel",
          "model_module_version": "1.2.0",
          "state": {
            "_model_module": "@jupyter-widgets/base",
            "_model_module_version": "1.2.0",
            "_model_name": "LayoutModel",
            "_view_count": null,
            "_view_module": "@jupyter-widgets/base",
            "_view_module_version": "1.2.0",
            "_view_name": "LayoutView",
            "align_content": null,
            "align_items": null,
            "align_self": null,
            "border": null,
            "bottom": null,
            "display": null,
            "flex": null,
            "flex_flow": null,
            "grid_area": null,
            "grid_auto_columns": null,
            "grid_auto_flow": null,
            "grid_auto_rows": null,
            "grid_column": null,
            "grid_gap": null,
            "grid_row": null,
            "grid_template_areas": null,
            "grid_template_columns": null,
            "grid_template_rows": null,
            "height": null,
            "justify_content": null,
            "justify_items": null,
            "left": null,
            "margin": null,
            "max_height": null,
            "max_width": null,
            "min_height": null,
            "min_width": null,
            "object_fit": null,
            "object_position": null,
            "order": null,
            "overflow": null,
            "overflow_x": null,
            "overflow_y": null,
            "padding": null,
            "right": null,
            "top": null,
            "visibility": null,
            "width": null
          }
        },
        "634d13a3cead4ce6aa34d44875ba1771": {
          "model_module": "@jupyter-widgets/controls",
          "model_name": "DescriptionStyleModel",
          "model_module_version": "1.5.0",
          "state": {
            "_model_module": "@jupyter-widgets/controls",
            "_model_module_version": "1.5.0",
            "_model_name": "DescriptionStyleModel",
            "_view_count": null,
            "_view_module": "@jupyter-widgets/base",
            "_view_module_version": "1.2.0",
            "_view_name": "StyleView",
            "description_width": ""
          }
        },
        "f99a81c470e3460aa6b87bfa396ff60b": {
          "model_module": "@jupyter-widgets/base",
          "model_name": "LayoutModel",
          "model_module_version": "1.2.0",
          "state": {
            "_model_module": "@jupyter-widgets/base",
            "_model_module_version": "1.2.0",
            "_model_name": "LayoutModel",
            "_view_count": null,
            "_view_module": "@jupyter-widgets/base",
            "_view_module_version": "1.2.0",
            "_view_name": "LayoutView",
            "align_content": null,
            "align_items": null,
            "align_self": null,
            "border": null,
            "bottom": null,
            "display": null,
            "flex": null,
            "flex_flow": null,
            "grid_area": null,
            "grid_auto_columns": null,
            "grid_auto_flow": null,
            "grid_auto_rows": null,
            "grid_column": null,
            "grid_gap": null,
            "grid_row": null,
            "grid_template_areas": null,
            "grid_template_columns": null,
            "grid_template_rows": null,
            "height": null,
            "justify_content": null,
            "justify_items": null,
            "left": null,
            "margin": null,
            "max_height": null,
            "max_width": null,
            "min_height": null,
            "min_width": null,
            "object_fit": null,
            "object_position": null,
            "order": null,
            "overflow": null,
            "overflow_x": null,
            "overflow_y": null,
            "padding": null,
            "right": null,
            "top": null,
            "visibility": null,
            "width": null
          }
        },
        "6419006a34f143588beec503700adadc": {
          "model_module": "@jupyter-widgets/controls",
          "model_name": "ProgressStyleModel",
          "model_module_version": "1.5.0",
          "state": {
            "_model_module": "@jupyter-widgets/controls",
            "_model_module_version": "1.5.0",
            "_model_name": "ProgressStyleModel",
            "_view_count": null,
            "_view_module": "@jupyter-widgets/base",
            "_view_module_version": "1.2.0",
            "_view_name": "StyleView",
            "bar_color": null,
            "description_width": ""
          }
        },
        "66adc66980424ae8b1c95a258f623c84": {
          "model_module": "@jupyter-widgets/base",
          "model_name": "LayoutModel",
          "model_module_version": "1.2.0",
          "state": {
            "_model_module": "@jupyter-widgets/base",
            "_model_module_version": "1.2.0",
            "_model_name": "LayoutModel",
            "_view_count": null,
            "_view_module": "@jupyter-widgets/base",
            "_view_module_version": "1.2.0",
            "_view_name": "LayoutView",
            "align_content": null,
            "align_items": null,
            "align_self": null,
            "border": null,
            "bottom": null,
            "display": null,
            "flex": null,
            "flex_flow": null,
            "grid_area": null,
            "grid_auto_columns": null,
            "grid_auto_flow": null,
            "grid_auto_rows": null,
            "grid_column": null,
            "grid_gap": null,
            "grid_row": null,
            "grid_template_areas": null,
            "grid_template_columns": null,
            "grid_template_rows": null,
            "height": null,
            "justify_content": null,
            "justify_items": null,
            "left": null,
            "margin": null,
            "max_height": null,
            "max_width": null,
            "min_height": null,
            "min_width": null,
            "object_fit": null,
            "object_position": null,
            "order": null,
            "overflow": null,
            "overflow_x": null,
            "overflow_y": null,
            "padding": null,
            "right": null,
            "top": null,
            "visibility": null,
            "width": null
          }
        },
        "56f139060db841e9ae718b89c45fd7ad": {
          "model_module": "@jupyter-widgets/controls",
          "model_name": "DescriptionStyleModel",
          "model_module_version": "1.5.0",
          "state": {
            "_model_module": "@jupyter-widgets/controls",
            "_model_module_version": "1.5.0",
            "_model_name": "DescriptionStyleModel",
            "_view_count": null,
            "_view_module": "@jupyter-widgets/base",
            "_view_module_version": "1.2.0",
            "_view_name": "StyleView",
            "description_width": ""
          }
        }
      }
    }
  },
  "cells": [
    {
      "cell_type": "markdown",
      "source": [
        "# Transfere Learning with VGG16"
      ],
      "metadata": {
        "id": "SC3XcUb4RhMw"
      }
    },
    {
      "cell_type": "markdown",
      "source": [
        "+ [6 Open Source Data Science Projects to Impress your Interviewer](https://www.analyticsvidhya.com/blog/2020/06/6-open-source-data-science-projects-interviewer/)\n",
        "+ [A Newbie-Friendly Guide to Transfer Learning](https://www.v7labs.com/blog/transfer-learning-guide)\n",
        "+ [Transfer Learning with VGG16 and Keras](https://towardsdatascience.com/transfer-learning-with-vgg16-and-keras-50ea161580b4)"
      ],
      "metadata": {
        "id": "OF6CWyVpRubz"
      }
    },
    {
      "cell_type": "markdown",
      "source": [
        "## 1. Get Data"
      ],
      "metadata": {
        "id": "CtT7oL1ZJAr4"
      }
    },
    {
      "cell_type": "markdown",
      "source": [
        "@ONLINE {tfflowers,\n",
        "author = \"The TensorFlow Team\",\n",
        "title = \"Flowers\",\n",
        "month = \"jan\",\n",
        "year = \"2019\",\n",
        "url = \"http://download.tensorflow.org/example_images/flower_photos.tgz\" }"
      ],
      "metadata": {
        "id": "0bDx7s5bPSQQ"
      }
    },
    {
      "cell_type": "code",
      "execution_count": 1,
      "metadata": {
        "id": "vgo8Ae0BRX8M"
      },
      "outputs": [],
      "source": [
        "import tensorflow as tf\n",
        "import tensorflow_datasets as tfds\n",
        "from tensorflow.keras.utils import to_categorical"
      ]
    },
    {
      "cell_type": "markdown",
      "source": [
        "### 1.1. Load Data"
      ],
      "metadata": {
        "id": "I7gwcvURJRnk"
      }
    },
    {
      "cell_type": "code",
      "source": [
        "## Loading images and labels\n",
        "(train_ds, train_labels), (test_ds, test_labels) = tfds.load(\n",
        "    \"tf_flowers\",\n",
        "    split=[\"train[:70%]\", \"train[:30%]\"], ## Train test split\n",
        "    batch_size=-1,\n",
        "    as_supervised=True,  # Include labels\n",
        ")"
      ],
      "metadata": {
        "id": "mE0pOq39Xje4",
        "outputId": "1b258b4b-7704-413d-e82e-261bf3c97316",
        "colab": {
          "base_uri": "https://localhost:8080/",
          "height": 312,
          "referenced_widgets": [
            "04774a5b01d34a109e53b597b9dd07fa",
            "6ecee346e91749819b0ad30f5feda038",
            "a0081cdd18df4296860f0071e245dd5b",
            "2ec30807101d4f16884ae5064da70152",
            "05af02fd511046fe998af16225cddfe4",
            "600d8d17ec55461b9b7ba66e4b287e4a",
            "634d13a3cead4ce6aa34d44875ba1771",
            "f99a81c470e3460aa6b87bfa396ff60b",
            "6419006a34f143588beec503700adadc",
            "66adc66980424ae8b1c95a258f623c84",
            "56f139060db841e9ae718b89c45fd7ad"
          ]
        }
      },
      "execution_count": 2,
      "outputs": [
        {
          "output_type": "stream",
          "name": "stdout",
          "text": [
            "\u001b[1mDownloading and preparing dataset tf_flowers/3.0.1 (download: 218.21 MiB, generated: 221.83 MiB, total: 440.05 MiB) to /root/tensorflow_datasets/tf_flowers/3.0.1...\u001b[0m\n"
          ]
        },
        {
          "output_type": "stream",
          "name": "stderr",
          "text": [
            "WARNING:absl:Dataset tf_flowers is hosted on GCS. It will automatically be downloaded to your\n",
            "local data directory. If you'd instead prefer to read directly from our public\n",
            "GCS bucket (recommended if you're running on GCP), you can instead pass\n",
            "`try_gcs=True` to `tfds.load` or set `data_dir=gs://tfds-data/datasets`.\n",
            "\n"
          ]
        },
        {
          "output_type": "display_data",
          "data": {
            "text/plain": [
              "Dl Completed...:   0%|          | 0/5 [00:00<?, ? file/s]"
            ],
            "application/vnd.jupyter.widget-view+json": {
              "version_major": 2,
              "version_minor": 0,
              "model_id": "04774a5b01d34a109e53b597b9dd07fa"
            }
          },
          "metadata": {}
        },
        {
          "output_type": "stream",
          "name": "stdout",
          "text": [
            "\n",
            "\u001b[1mDataset tf_flowers downloaded and prepared to /root/tensorflow_datasets/tf_flowers/3.0.1. Subsequent calls will reuse this data.\u001b[0m\n",
            "WARNING:tensorflow:From /usr/local/lib/python3.7/dist-packages/tensorflow_datasets/core/dataset_builder.py:598: get_single_element (from tensorflow.python.data.experimental.ops.get_single_element) is deprecated and will be removed in a future version.\n",
            "Instructions for updating:\n",
            "Use `tf.data.Dataset.get_single_element()`.\n"
          ]
        },
        {
          "output_type": "stream",
          "name": "stderr",
          "text": [
            "WARNING:tensorflow:From /usr/local/lib/python3.7/dist-packages/tensorflow_datasets/core/dataset_builder.py:598: get_single_element (from tensorflow.python.data.experimental.ops.get_single_element) is deprecated and will be removed in a future version.\n",
            "Instructions for updating:\n",
            "Use `tf.data.Dataset.get_single_element()`.\n"
          ]
        }
      ]
    },
    {
      "cell_type": "markdown",
      "source": [
        "### 1.2. Prepare data"
      ],
      "metadata": {
        "id": "QnqswVuNJclC"
      }
    },
    {
      "cell_type": "code",
      "source": [
        "## Resizing images\n",
        "train_ds = tf.image.resize(train_ds, (150, 150))\n",
        "test_ds = tf.image.resize(test_ds, (150, 150))\n",
        "\n",
        "## Transforming labels to correct format\n",
        "train_labels = to_categorical(train_labels, num_classes=5)\n",
        "test_labels = to_categorical(test_labels, num_classes=5)"
      ],
      "metadata": {
        "id": "zkoQvYuGJknq"
      },
      "execution_count": 3,
      "outputs": []
    },
    {
      "cell_type": "markdown",
      "source": [
        "## 2.  Obtain pre-trained model"
      ],
      "metadata": {
        "id": "vUBodoIAKdkk"
      }
    },
    {
      "cell_type": "code",
      "source": [
        "from tensorflow.keras.applications.vgg16 import VGG16\n",
        "from tensorflow.keras.applications.vgg16 import preprocess_input\n",
        "\n",
        "## Loading VGG16 model\n",
        "base_model = VGG16(weights=\"imagenet\", include_top=False, input_shape=train_ds[0].shape)\n"
      ],
      "metadata": {
        "id": "_UREO7KlKfc6",
        "outputId": "b574dc28-5025-443a-ad78-284068b473b8",
        "colab": {
          "base_uri": "https://localhost:8080/"
        }
      },
      "execution_count": 4,
      "outputs": [
        {
          "output_type": "stream",
          "name": "stdout",
          "text": [
            "Downloading data from https://storage.googleapis.com/tensorflow/keras-applications/vgg16/vgg16_weights_tf_dim_ordering_tf_kernels_notop.h5\n",
            "58892288/58889256 [==============================] - 0s 0us/step\n",
            "58900480/58889256 [==============================] - 0s 0us/step\n"
          ]
        }
      ]
    },
    {
      "cell_type": "code",
      "source": [
        "base_model.summary()"
      ],
      "metadata": {
        "id": "pZIRDq7UNQXb",
        "outputId": "68e1558f-a5d5-44b5-e1bc-1c5a606bf5ba",
        "colab": {
          "base_uri": "https://localhost:8080/"
        }
      },
      "execution_count": 5,
      "outputs": [
        {
          "output_type": "stream",
          "name": "stdout",
          "text": [
            "Model: \"vgg16\"\n",
            "_________________________________________________________________\n",
            " Layer (type)                Output Shape              Param #   \n",
            "=================================================================\n",
            " input_1 (InputLayer)        [(None, 150, 150, 3)]     0         \n",
            "                                                                 \n",
            " block1_conv1 (Conv2D)       (None, 150, 150, 64)      1792      \n",
            "                                                                 \n",
            " block1_conv2 (Conv2D)       (None, 150, 150, 64)      36928     \n",
            "                                                                 \n",
            " block1_pool (MaxPooling2D)  (None, 75, 75, 64)        0         \n",
            "                                                                 \n",
            " block2_conv1 (Conv2D)       (None, 75, 75, 128)       73856     \n",
            "                                                                 \n",
            " block2_conv2 (Conv2D)       (None, 75, 75, 128)       147584    \n",
            "                                                                 \n",
            " block2_pool (MaxPooling2D)  (None, 37, 37, 128)       0         \n",
            "                                                                 \n",
            " block3_conv1 (Conv2D)       (None, 37, 37, 256)       295168    \n",
            "                                                                 \n",
            " block3_conv2 (Conv2D)       (None, 37, 37, 256)       590080    \n",
            "                                                                 \n",
            " block3_conv3 (Conv2D)       (None, 37, 37, 256)       590080    \n",
            "                                                                 \n",
            " block3_pool (MaxPooling2D)  (None, 18, 18, 256)       0         \n",
            "                                                                 \n",
            " block4_conv1 (Conv2D)       (None, 18, 18, 512)       1180160   \n",
            "                                                                 \n",
            " block4_conv2 (Conv2D)       (None, 18, 18, 512)       2359808   \n",
            "                                                                 \n",
            " block4_conv3 (Conv2D)       (None, 18, 18, 512)       2359808   \n",
            "                                                                 \n",
            " block4_pool (MaxPooling2D)  (None, 9, 9, 512)         0         \n",
            "                                                                 \n",
            " block5_conv1 (Conv2D)       (None, 9, 9, 512)         2359808   \n",
            "                                                                 \n",
            " block5_conv2 (Conv2D)       (None, 9, 9, 512)         2359808   \n",
            "                                                                 \n",
            " block5_conv3 (Conv2D)       (None, 9, 9, 512)         2359808   \n",
            "                                                                 \n",
            " block5_pool (MaxPooling2D)  (None, 4, 4, 512)         0         \n",
            "                                                                 \n",
            "=================================================================\n",
            "Total params: 14,714,688\n",
            "Trainable params: 14,714,688\n",
            "Non-trainable params: 0\n",
            "_________________________________________________________________\n"
          ]
        }
      ]
    },
    {
      "cell_type": "markdown",
      "source": [
        "## 3. Create a base model"
      ],
      "metadata": {
        "id": "PlV4cyxTLFV3"
      }
    },
    {
      "cell_type": "code",
      "source": [
        "base_model.trainable = False ## Not trainable weights\n",
        "## Preprocessing input\n",
        "train_ds = preprocess_input(train_ds) \n",
        "test_ds = preprocess_input(test_ds)"
      ],
      "metadata": {
        "id": "Eox7C9IqLG_6"
      },
      "execution_count": 6,
      "outputs": []
    },
    {
      "cell_type": "markdown",
      "source": [
        "## 4. Freeze layers"
      ],
      "metadata": {
        "id": "C-4DEPV2L501"
      }
    },
    {
      "cell_type": "code",
      "source": [
        ""
      ],
      "metadata": {
        "id": "Gwbvy3wpL9bp"
      },
      "execution_count": 6,
      "outputs": []
    },
    {
      "cell_type": "markdown",
      "source": [
        "## 5. Add new trainable layers"
      ],
      "metadata": {
        "id": "zycz10s5MLph"
      }
    },
    {
      "cell_type": "code",
      "source": [
        "from tensorflow.keras import layers, models\n",
        "\n",
        "flatten_layer = layers.Flatten()\n",
        "dense_layer_1 = layers.Dense(50, activation='relu')\n",
        "dense_layer_2 = layers.Dense(20, activation='relu')\n",
        "prediction_layer = layers.Dense(5, activation='softmax')\n",
        "\n",
        "\n",
        "model = models.Sequential([\n",
        "    base_model,\n",
        "    flatten_layer,\n",
        "    dense_layer_1,\n",
        "    dense_layer_2,\n",
        "    prediction_layer\n",
        "])"
      ],
      "metadata": {
        "id": "IIcPTHulMNww"
      },
      "execution_count": 7,
      "outputs": []
    },
    {
      "cell_type": "markdown",
      "source": [
        "## 6. Train the new layers"
      ],
      "metadata": {
        "id": "DcWjjxizMkJq"
      }
    },
    {
      "cell_type": "code",
      "source": [
        "from tensorflow.keras.callbacks import EarlyStopping\n",
        "\n",
        "model.compile(\n",
        "    optimizer='adam',\n",
        "    loss='categorical_crossentropy',\n",
        "    metrics=['accuracy'],\n",
        ")\n",
        "\n",
        "\n",
        "es = EarlyStopping(monitor='val_accuracy', mode='max', patience=5,  restore_best_weights=True)\n",
        "\n",
        "model.fit(train_ds, train_labels, epochs=50, validation_split=0.2, batch_size=32, callbacks=[es])\n"
      ],
      "metadata": {
        "id": "ivrQVO7oMnOg",
        "outputId": "add847e9-9ef4-419b-81fc-296767ccf2c2",
        "colab": {
          "base_uri": "https://localhost:8080/"
        }
      },
      "execution_count": 8,
      "outputs": [
        {
          "output_type": "stream",
          "name": "stdout",
          "text": [
            "Epoch 1/50\n",
            "65/65 [==============================] - 29s 254ms/step - loss: 1.8615 - accuracy: 0.3280 - val_loss: 1.3557 - val_accuracy: 0.3735\n",
            "Epoch 2/50\n",
            "65/65 [==============================] - 12s 187ms/step - loss: 1.1739 - accuracy: 0.5085 - val_loss: 1.1993 - val_accuracy: 0.6109\n",
            "Epoch 3/50\n",
            "65/65 [==============================] - 12s 188ms/step - loss: 0.9258 - accuracy: 0.6852 - val_loss: 1.0992 - val_accuracy: 0.6498\n",
            "Epoch 4/50\n",
            "65/65 [==============================] - 12s 190ms/step - loss: 0.6940 - accuracy: 0.7674 - val_loss: 1.1653 - val_accuracy: 0.6615\n",
            "Epoch 5/50\n",
            "65/65 [==============================] - 12s 187ms/step - loss: 0.5376 - accuracy: 0.8156 - val_loss: 0.9804 - val_accuracy: 0.6770\n",
            "Epoch 6/50\n",
            "65/65 [==============================] - 12s 188ms/step - loss: 0.4504 - accuracy: 0.8384 - val_loss: 0.9479 - val_accuracy: 0.7082\n",
            "Epoch 7/50\n",
            "65/65 [==============================] - 12s 190ms/step - loss: 0.3163 - accuracy: 0.8803 - val_loss: 0.9683 - val_accuracy: 0.7082\n",
            "Epoch 8/50\n",
            "65/65 [==============================] - 12s 187ms/step - loss: 0.2402 - accuracy: 0.9041 - val_loss: 1.1497 - val_accuracy: 0.6946\n",
            "Epoch 9/50\n",
            "65/65 [==============================] - 12s 188ms/step - loss: 0.1832 - accuracy: 0.9241 - val_loss: 1.0963 - val_accuracy: 0.7198\n",
            "Epoch 10/50\n",
            "65/65 [==============================] - 12s 186ms/step - loss: 0.1615 - accuracy: 0.9382 - val_loss: 1.1308 - val_accuracy: 0.7198\n",
            "Epoch 11/50\n",
            "65/65 [==============================] - 12s 187ms/step - loss: 0.1264 - accuracy: 0.9470 - val_loss: 1.2955 - val_accuracy: 0.7179\n",
            "Epoch 12/50\n",
            "65/65 [==============================] - 12s 187ms/step - loss: 0.1164 - accuracy: 0.9523 - val_loss: 1.2273 - val_accuracy: 0.7082\n",
            "Epoch 13/50\n",
            "65/65 [==============================] - 12s 186ms/step - loss: 0.1073 - accuracy: 0.9577 - val_loss: 1.2546 - val_accuracy: 0.7198\n",
            "Epoch 14/50\n",
            "65/65 [==============================] - 12s 187ms/step - loss: 0.0870 - accuracy: 0.9601 - val_loss: 1.3832 - val_accuracy: 0.7198\n"
          ]
        },
        {
          "output_type": "execute_result",
          "data": {
            "text/plain": [
              "<keras.callbacks.History at 0x7f77f68585d0>"
            ]
          },
          "metadata": {},
          "execution_count": 8
        }
      ]
    },
    {
      "cell_type": "markdown",
      "source": [
        "## 7. 6. Fine-tune your model"
      ],
      "metadata": {
        "id": "8XTchlW6M749"
      }
    },
    {
      "cell_type": "code",
      "source": [
        ""
      ],
      "metadata": {
        "id": "S_q-Ok-sM9cY"
      },
      "execution_count": 8,
      "outputs": []
    },
    {
      "cell_type": "markdown",
      "source": [
        "# Extra: comparing to hand-made model"
      ],
      "metadata": {
        "id": "e7BBFHBONHWA"
      }
    },
    {
      "cell_type": "code",
      "source": [
        "from tensorflow.keras import Sequential, layers\n",
        "from tensorflow.keras.callbacks import EarlyStopping\n",
        "from tensorflow.keras.layers.experimental.preprocessing import Rescaling\n",
        "\n",
        "\n",
        "hand_made_model = Sequential()\n",
        "hand_made_model.add(Rescaling(1./255, input_shape=(150,150,3)))\n",
        "\n",
        "hand_made_model.add(layers.Conv2D(16, kernel_size=10, activation='relu'))\n",
        "hand_made_model.add(layers.MaxPooling2D(3))\n",
        "\n",
        "hand_made_model.add(layers.Conv2D(32, kernel_size=8, activation=\"relu\"))\n",
        "hand_made_model.add(layers.MaxPooling2D(2))\n",
        "\n",
        "hand_made_model.add(layers.Conv2D(32, kernel_size=6, activation=\"relu\"))\n",
        "hand_made_model.add(layers.MaxPooling2D(2))\n",
        "\n",
        "hand_made_model.add(layers.Flatten())\n",
        "hand_made_model.add(layers.Dense(50, activation='relu'))\n",
        "hand_made_model.add(layers.Dense(20, activation='relu'))\n",
        "hand_made_model.add(layers.Dense(5, activation='softmax'))\n",
        "\n",
        "\n",
        "hand_made_model.compile(\n",
        "    optimizer='adam',\n",
        "    loss='categorical_crossentropy',\n",
        "    metrics=['accuracy'],\n",
        ")\n",
        "\n",
        "\n",
        "es = EarlyStopping(monitor='val_accuracy', mode='max', patience=5,  restore_best_weights=True)\n",
        "\n",
        "hand_made_model.fit(train_ds, train_labels, epochs=50, validation_split=0.2, batch_size=32, callbacks=[es])"
      ],
      "metadata": {
        "id": "fa6NVu61NIaI",
        "outputId": "fef5f764-1d09-44e3-ff1a-a39f6f41092b",
        "colab": {
          "base_uri": "https://localhost:8080/"
        }
      },
      "execution_count": 9,
      "outputs": [
        {
          "output_type": "stream",
          "name": "stdout",
          "text": [
            "Epoch 1/50\n",
            "65/65 [==============================] - 5s 48ms/step - loss: 1.5291 - accuracy: 0.2876 - val_loss: 1.4355 - val_accuracy: 0.3424\n",
            "Epoch 2/50\n",
            "65/65 [==============================] - 3s 40ms/step - loss: 1.3618 - accuracy: 0.3776 - val_loss: 1.3097 - val_accuracy: 0.3969\n",
            "Epoch 3/50\n",
            "65/65 [==============================] - 3s 41ms/step - loss: 1.2744 - accuracy: 0.4360 - val_loss: 1.2434 - val_accuracy: 0.4747\n",
            "Epoch 4/50\n",
            "65/65 [==============================] - 3s 40ms/step - loss: 1.2159 - accuracy: 0.4574 - val_loss: 1.2038 - val_accuracy: 0.4553\n",
            "Epoch 5/50\n",
            "65/65 [==============================] - 3s 41ms/step - loss: 1.1725 - accuracy: 0.4861 - val_loss: 1.1871 - val_accuracy: 0.5350\n",
            "Epoch 6/50\n",
            "65/65 [==============================] - 3s 41ms/step - loss: 1.0920 - accuracy: 0.5328 - val_loss: 1.1951 - val_accuracy: 0.5156\n",
            "Epoch 7/50\n",
            "65/65 [==============================] - 3s 41ms/step - loss: 1.0067 - accuracy: 0.5878 - val_loss: 1.2228 - val_accuracy: 0.5253\n",
            "Epoch 8/50\n",
            "65/65 [==============================] - 3s 46ms/step - loss: 0.9703 - accuracy: 0.6015 - val_loss: 1.1234 - val_accuracy: 0.5506\n",
            "Epoch 9/50\n",
            "65/65 [==============================] - 3s 48ms/step - loss: 0.8964 - accuracy: 0.6423 - val_loss: 1.1455 - val_accuracy: 0.5292\n",
            "Epoch 10/50\n",
            "65/65 [==============================] - 3s 50ms/step - loss: 0.8083 - accuracy: 0.6715 - val_loss: 1.1570 - val_accuracy: 0.5603\n",
            "Epoch 11/50\n",
            "65/65 [==============================] - 3s 49ms/step - loss: 0.7103 - accuracy: 0.7163 - val_loss: 1.2450 - val_accuracy: 0.5817\n",
            "Epoch 12/50\n",
            "65/65 [==============================] - 3s 51ms/step - loss: 0.6580 - accuracy: 0.7411 - val_loss: 1.3280 - val_accuracy: 0.5642\n",
            "Epoch 13/50\n",
            "65/65 [==============================] - 3s 44ms/step - loss: 0.5937 - accuracy: 0.7679 - val_loss: 1.3257 - val_accuracy: 0.5486\n",
            "Epoch 14/50\n",
            "65/65 [==============================] - 3s 41ms/step - loss: 0.4935 - accuracy: 0.8112 - val_loss: 1.4207 - val_accuracy: 0.5642\n",
            "Epoch 15/50\n",
            "65/65 [==============================] - 3s 41ms/step - loss: 0.4680 - accuracy: 0.8258 - val_loss: 1.4638 - val_accuracy: 0.5486\n",
            "Epoch 16/50\n",
            "65/65 [==============================] - 3s 41ms/step - loss: 0.3848 - accuracy: 0.8516 - val_loss: 1.5538 - val_accuracy: 0.5681\n"
          ]
        },
        {
          "output_type": "execute_result",
          "data": {
            "text/plain": [
              "<keras.callbacks.History at 0x7f77f63e2590>"
            ]
          },
          "metadata": {},
          "execution_count": 9
        }
      ]
    }
  ]
}