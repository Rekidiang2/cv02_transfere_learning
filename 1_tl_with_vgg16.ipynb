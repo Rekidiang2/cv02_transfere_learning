{
  "nbformat": 4,
  "nbformat_minor": 0,
  "metadata": {
    "colab": {
      "name": "1.tl with vgg16.ipynb",
      "provenance": []
    },
    "kernelspec": {
      "name": "python3",
      "display_name": "Python 3"
    },
    "language_info": {
      "name": "python"
    }
  },
  "cells": [
    {
      "cell_type": "markdown",
      "source": [
        "# Transfere Learning with VGG16"
      ],
      "metadata": {
        "id": "SC3XcUb4RhMw"
      }
    },
    {
      "cell_type": "markdown",
      "source": [
        "+ [6 Open Source Data Science Projects to Impress your Interviewer](https://www.analyticsvidhya.com/blog/2020/06/6-open-source-data-science-projects-interviewer/)\n",
        "+ [A Newbie-Friendly Guide to Transfer Learning](https://www.v7labs.com/blog/transfer-learning-guide)\n",
        "+ [Transfer Learning with VGG16 and Keras](https://towardsdatascience.com/transfer-learning-with-vgg16-and-keras-50ea161580b4)"
      ],
      "metadata": {
        "id": "OF6CWyVpRubz"
      }
    },
    {
      "cell_type": "code",
      "execution_count": null,
      "metadata": {
        "id": "vgo8Ae0BRX8M"
      },
      "outputs": [],
      "source": [
        ""
      ]
    }
  ]
}